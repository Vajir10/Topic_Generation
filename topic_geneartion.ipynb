{
 "cells": [
  {
   "cell_type": "markdown",
   "metadata": {},
   "source": [
    "# Step involved to solved the problem\n",
    " \n",
    "* Downloading video from youtube\n",
    "* converting videos into audio mp3 file \n",
    "* converting mp3 audio into wav audio file\n",
    "* converting audio into transcrip file\n",
    "* use model to solve the problem\n"
   ]
  },
  {
   "cell_type": "code",
   "execution_count": null,
   "metadata": {},
   "outputs": [],
   "source": [
    "#  Downloading videos from youtube \n",
    "#------------------------------------------#\n",
    "# libraries used to solve the problem\n",
    "from docx import Document           # used to read the list of videos \n",
    "import youtube_dl                  # used to download the videos\n",
    "#################################\n",
    "# reading the list of videos\n",
    "document = Document('youtube_list.docx')        # file should be in the same directory \n",
    "youtube_files= []\n",
    "n = len(document.paragraphs)                   # total no of videos that will be download\n",
    "# extracting the link from the document and storing in the youtube/_files\n",
    "for i in range(0 ,n):\n",
    "    z = document.paragraphs[i].text\n",
    "    # removing all charactor that comes before https\n",
    "    if i < 9:\n",
    "        z = z[3:]\n",
    "    else:\n",
    "        z =z[4:]\n",
    "    youtube_files.append(z)\n",
    "# passing the list videos link and converting and downloading the  audio \n",
    "ydl_opts = {'format':'bestaudio/best' ,'postprocessors':[{'key':'FFmpegExtractAudio' ,'preferredcodec':'mp3' ,'preferredquality':'192',}]}\n",
    "with youtube_dl.YoutubeDL(ydl_opts) as ydl:\n",
    "    for i in range(0,n):\n",
    "        ydl.download([youtube_files[i]])\n"
   ]
  },
  {
   "cell_type": "code",
   "execution_count": 5,
   "metadata": {},
   "outputs": [],
   "source": [
    "#  converting mp3 wav file\n",
    "#---------------------------------------------------#\n",
    "\n",
    "def mp3_to_wav(file_dir):\n",
    "    # libraries used\n",
    "    import os\n",
    "    from pydub import AudioSegment\n",
    "    #-----------------------------------------#\n",
    "    mp3_file = os.listdir(file_dir +str('/mp3'))\n",
    "    wav_dir = file_dir + str('/wav')\n",
    "    for index ,file in enumerate(mp3_files):\n",
    "        name = file.split('.')[0]\n",
    "        extention = file.split('.')[1]\n",
    "        sound = AudioSegment.from_mp3(file)\n",
    "        sound.export(wav_dir + name + '.wav' ,format =\"wav\") \n",
    "#-------------------------------------------------#"
   ]
  },
  {
   "cell_type": "markdown",
   "metadata": {},
   "source": [
    "# converting audio into transcrip file using google speech API\n",
    "* Reference:\n",
    "            * https://cloud.google.com/speech-to-text/docs/quickstart-client-libraries # forsetting environment \n",
    "            * https://googleapis.github.io/google-cloud-python/latest/core/auth.html    #  authorization\n",
    "            * https://cloud.google.com/storage/docs/uploading-objects#storage-upload-object-code_sample  #                     uploading audio file\n",
    "            \n",
    "            * https://cloud.google.com/speech-to-text/docs/async-recognize  # code for converting long audion files"
   ]
  },
  {
   "cell_type": "code",
   "execution_count": 6,
   "metadata": {},
   "outputs": [],
   "source": [
    "# \n",
    "def transcribe_gcs(gcs_uri):\n",
    "    \"\"\"Asynchronously transcribes the audio file specified by the gcs_uri.\"\"\"\n",
    "    from google.cloud import speech\n",
    "    from google.cloud.speech import enums\n",
    "    from google.cloud.speech import types\n",
    "    client = speech.SpeechClient()\n",
    "\n",
    "    audio = types.RecognitionAudio(uri=gcs_uri)\n",
    "    config = types.RecognitionConfig(\n",
    "        encoding=enums.RecognitionConfig.AudioEncoding.LINEAR16,\n",
    "        language_code='en-US')\n",
    "\n",
    "    operation = client.long_running_recognize(config, audio)\n",
    "\n",
    "    print('Waiting for operation to complete...')\n",
    "    response = operation.result(timeout=3600)\n",
    "    text1 =[]\n",
    "\n",
    "    # Each result is for a consecutive portion of the audio. Iterate through\n",
    "    # them to get the transcripts for the entire audio file.\n",
    "    for result in response.results:\n",
    "        # The first alternative is the most likely one for this portion.\n",
    "        #print(u'Transcript: {}'.format(result.alternatives[0].transcript))\n",
    "        for alternative in result.alternatives:\n",
    "            text1.append(alternative.transcript)   # storing only text \n",
    "        #print('Confidence: {}'.format(result.alternatives[0].confidence))\n",
    "    return text1"
   ]
  },
  {
   "cell_type": "code",
   "execution_count": 7,
   "metadata": {},
   "outputs": [],
   "source": [
    "def savetxt():\n",
    "    fix_dir = \"gs://vajir1bucket/wav/wav/\"         # starting name of  directory of google storage bucket\n",
    "    wav_files = os.listdir('/home/vajir/Desktop/gcloud/wav/') # name of the wav file \n",
    "    txt_files = '/home/vajir/Desktop/gcloud/text/' # all the converted text file will be store in this folder\n",
    "    for file in wav_files:\n",
    "        gcs_uri =  fix_dir + file\n",
    "        text = transcribe_gcs(gcs_uri) # it will return list of text in a videos\n",
    "        name = file.split('.')[0]\n",
    "        # combining all text from the list and saving  transcript file into text directory\n",
    "        with open(txt_files+ name +str('.txt') ,'w') as f:\n",
    "            for txt in text:\n",
    "                f.write(txt)"
   ]
  },
  {
   "cell_type": "code",
   "execution_count": null,
   "metadata": {},
   "outputs": [],
   "source": []
  }
 ],
 "metadata": {
  "kernelspec": {
   "display_name": "Python 3",
   "language": "python",
   "name": "python3"
  },
  "language_info": {
   "codemirror_mode": {
    "name": "ipython",
    "version": 3
   },
   "file_extension": ".py",
   "mimetype": "text/x-python",
   "name": "python",
   "nbconvert_exporter": "python",
   "pygments_lexer": "ipython3",
   "version": "3.6.5"
  }
 },
 "nbformat": 4,
 "nbformat_minor": 2
}
