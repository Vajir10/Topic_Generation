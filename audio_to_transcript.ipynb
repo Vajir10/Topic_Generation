{
 "cells": [
  {
   "cell_type": "code",
   "execution_count": 1,
   "metadata": {},
   "outputs": [],
   "source": [
    "from os import listdir\n",
    "from os.path import isfile ,join\n",
    "import os"
   ]
  },
  {
   "cell_type": "code",
   "execution_count": 8,
   "metadata": {},
   "outputs": [],
   "source": [
    "mypath =\"/home/vajir/Desktop/fathom/fetching_video/audio/\" # dir of audio file that will we converted into web file\n",
    "mp3files = [f for f in listdir(mypath)]\n",
    "filenames = []\n",
    "for i in range(len(mp3files)):\n",
    "    filenames.append(mp3files[1][:-4])       # removing  .mp3 extention\n",
    "    "
   ]
  },
  {
   "cell_type": "code",
   "execution_count": 21,
   "metadata": {},
   "outputs": [],
   "source": [
    "# cconverting mp3 into wav file\n",
    "from pydub import AudioSegment     # library that convert mp3 into wav file\n",
    "i =0\n",
    "for i ,f in enumerate(filenames): \n",
    "    sound = AudioSegment.from_mp3(\"/home/vajir/Desktop/fathom/fetching_video/audio/\" +str(f) + '.mp3')\n",
    "    sound.export(\"/home/vajir/Desktop/fathom/fetching_video/wav/\" +str(f) +'.wav' ,format =\"wav\")"
   ]
  },
  {
   "cell_type": "code",
   "execution_count": 14,
   "metadata": {},
   "outputs": [
    {
     "data": {
      "text/plain": [
       "<_io.BufferedRandom name='3 Chatbot Design Tips with Amir Shevat from Slack-xh0Rl9lM9jE.wav'>"
      ]
     },
     "execution_count": 14,
     "metadata": {},
     "output_type": "execute_result"
    }
   ],
   "source": [
    "sound = AudioSegment.from_mp3(\"/home/vajir/Desktop/fathom/fetching_video/audio/\"+\"3 Chatbot Design Tips with Amir Shevat from Slack-xh0Rl9lM9jE.mp3\")\n",
    "sound.export(\"3 Chatbot Design Tips with Amir Shevat from Slack-xh0Rl9lM9jE.wav\" ,format =\"wav\")"
   ]
  },
  {
   "cell_type": "code",
   "execution_count": 27,
   "metadata": {},
   "outputs": [],
   "source": [
    "from pydub import AudioSegment\n",
    "folder = \"/home/vajir/Desktop/fathom/fetching_video/audio/\"\n",
    "new_folder = \"/home/vajir/Desktop/fathom/fetching_video/wav/\" # stroing the wav into new directory\n",
    "filelist = os.listdir(folder)\n",
    "for index, entire_fn in enumerate(filelist):\n",
    "    filen = entire_fn.split(\".\")[0]\n",
    "    extension = entire_fn.split(\".\")[1]\n",
    "    audio = AudioSegment.from_mp3(folder + entire_fn)\n",
    "    audio.export(new_folder + filen + \".wav\", format=\"wav\")  # saving the wav into new folder directory"
   ]
  },
  {
   "cell_type": "code",
   "execution_count": null,
   "metadata": {},
   "outputs": [
    {
     "name": "stdout",
     "output_type": "stream",
     "text": [
      "0\n",
      "1\n",
      "2\n"
     ]
    }
   ],
   "source": [
    "# converting the wav into transcript\n",
    "import speech_recognition as sr\n",
    "from os import path\n",
    "import os\n",
    "wav_path = \"/home/vajir/Desktop/fathom/fetching_video/wav/\" # setting the directory of file that will be converted into trancript\n",
    "wav_files =  os.listdir(wav_path)\n",
    "r = sr.Recognizer()             # creating a recognizer - a method\n",
    "data_files ={}             # will use to store audio name as key and transcrip as value\n",
    "for index ,entire_fn in enumerate(wav_files):\n",
    "    fillen = entire_fn.split(\".\")[0]\n",
    "    extension = entire_fn.split(\".\")[1]\n",
    "    with sr.AudioFile(wav_path + entire_fn) as source:\n",
    "        r.adjust_for_ambient_noise(source)\n",
    "        audio = r.record(source)\n",
    "    try:\n",
    "        z = r.recognize_sphinx(audio)\n",
    "        x = {fillen:z}\n",
    "        data_files.update(x)\n",
    "    except sr.UnknownValueError:\n",
    "        \n",
    "        print(\"Sphinx could not understand audio\")\n",
    "    except sr.RequestError as e:\n",
    "        print(\"Sphinx error; {0}\".format(e))\n",
    "    print(index)"
   ]
  },
  {
   "cell_type": "code",
   "execution_count": null,
   "metadata": {},
   "outputs": [],
   "source": [
    "# converting the wav into transcript\n",
    "import speech_recognition as sr\n",
    "from os import path\n",
    "import os\n",
    "wav_path = \"/home/vajir/Desktop/fathom/fetching_video/wav/\" # setting the directory of file that will be converted into trancript\n",
    "wav_files =  os.listdir(wav_path)\n",
    "r = sr.Recognizer()             # creating a recognizer - a method\n",
    "data_files ={}             # will use to store audio name as key and transcrip as value\n",
    "entire_fn = wav_files[5]\n",
    "fillen = entire_fn.split(\".\")[0]\n",
    "extension = entire_fn.split(\".\")[1]\n",
    "with sr.AudioFile(wav_path + entire_fn) as source:\n",
    "    r.adjust_for_ambient_noise(source)\n",
    "    audio = r.record(source)\n",
    "try:\n",
    "    z = r.recognize_sphinx(audio)\n",
    "except sr.UnknownValueError:\n",
    "        \n",
    "    print(\"Sphinx could not understand audio\")\n",
    "except sr.RequestError as e:\n",
    "    print(\"Sphinx error; {0}\".format(e))\n"
   ]
  },
  {
   "cell_type": "code",
   "execution_count": null,
   "metadata": {},
   "outputs": [],
   "source": []
  }
 ],
 "metadata": {
  "kernelspec": {
   "display_name": "Python 3",
   "language": "python",
   "name": "python3"
  },
  "language_info": {
   "codemirror_mode": {
    "name": "ipython",
    "version": 3
   },
   "file_extension": ".py",
   "mimetype": "text/x-python",
   "name": "python",
   "nbconvert_exporter": "python",
   "pygments_lexer": "ipython3",
   "version": "3.6.5"
  }
 },
 "nbformat": 4,
 "nbformat_minor": 2
}
